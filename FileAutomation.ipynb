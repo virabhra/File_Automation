{
 "cells": [
  {
   "cell_type": "code",
   "execution_count": 1,
   "metadata": {},
   "outputs": [
    {
     "data": {
      "text/plain": [
       "'your have to download all the assignment\\nbased on catagory it has to go all the respective folder.\\nCreate one single file. file heading will be assignment name.\\nAnd it should be only two file. 1 is assigmnet question and 2nd will be all the programming assigment question.'"
      ]
     },
     "execution_count": 1,
     "metadata": {},
     "output_type": "execute_result"
    }
   ],
   "source": [
    "'''your have to download all the assignment\n",
    "based on catagory it has to go all the respective folder.\n",
    "Create one single file. file heading will be assignment name.\n",
    "And it should be only two file. 1 is assigmnet question and 2nd will be all the programming assigment question.'''"
   ]
  },
  {
   "cell_type": "code",
   "execution_count": 56,
   "metadata": {},
   "outputs": [],
   "source": [
    "#!pip install docx2txt\n",
    "import os, shutil\n",
    "import docx"
   ]
  },
  {
   "cell_type": "code",
   "execution_count": 57,
   "metadata": {},
   "outputs": [],
   "source": [
    "path='C:\\\\FileAutomation'\n",
    "os.chdir(path)"
   ]
  },
  {
   "cell_type": "code",
   "execution_count": 58,
   "metadata": {},
   "outputs": [
    {
     "data": {
      "text/plain": [
       "'C:\\\\FileAutomation'"
      ]
     },
     "execution_count": 58,
     "metadata": {},
     "output_type": "execute_result"
    }
   ],
   "source": [
    "pwd"
   ]
  },
  {
   "cell_type": "code",
   "execution_count": 59,
   "metadata": {},
   "outputs": [],
   "source": [
    "for (path, topic, files) in os.walk(path):\n",
    "    for file in files:\n",
    "        ext=file.split('.')[-1] #get the excetntion name"
   ]
  },
  {
   "cell_type": "code",
   "execution_count": 60,
   "metadata": {},
   "outputs": [
    {
     "data": {
      "text/plain": [
       "'docx'"
      ]
     },
     "execution_count": 60,
     "metadata": {},
     "output_type": "execute_result"
    }
   ],
   "source": [
    "ext"
   ]
  },
  {
   "cell_type": "code",
   "execution_count": 61,
   "metadata": {},
   "outputs": [],
   "source": [
    "#create dir based on ext and move the file\n",
    "files=os.listdir(path)\n",
    "files\n",
    "topic=[]\n",
    "for i in files:\n",
    "    ext = i.split('.')[1]\n",
    "    topic.append(i.split('.')[0])\n",
    "topic\n",
    "os.mkdir(ext)\n",
    "des=(path+'\\\\'+ext)\n",
    "for f in files:\n",
    "    if f.endswith('.'+ext):\n",
    "        shutil.move(f,des)"
   ]
  },
  {
   "cell_type": "code",
   "execution_count": 62,
   "metadata": {},
   "outputs": [],
   "source": [
    "fst=path+'\\\\'+ext\n",
    "os.chdir(fst)  #change path based on ext"
   ]
  },
  {
   "cell_type": "code",
   "execution_count": 63,
   "metadata": {},
   "outputs": [
    {
     "data": {
      "text/plain": [
       "'C:\\\\FileAutomation\\\\docx'"
      ]
     },
     "execution_count": 63,
     "metadata": {},
     "output_type": "execute_result"
    }
   ],
   "source": [
    "pwd()"
   ]
  },
  {
   "cell_type": "code",
   "execution_count": 64,
   "metadata": {},
   "outputs": [],
   "source": [
    "#move file based on programming and assignment\n",
    "f=[]\n",
    "f2=[]\n",
    "fd1=[]\n",
    "fd2=[]\n",
    "for (path, topic, files) in os.walk(fst):\n",
    "    for file in files:\n",
    "        f.append(file)  #get the file name\n",
    "        f2.append(file.split('.')[0][0:10]) #prepare for dir name\n",
    "d1, d2 =set(f2)  #keep dir variable name ready\n",
    "#making dest path\n",
    "p1=path+'\\\\'+d1\n",
    "p2=path+'\\\\'+d2\n",
    "os.mkdir(d1) #create dir based on variable\n",
    "os.mkdir(d2)#create dir based on variable\n",
    "\n",
    "#keeping all the file name in list\n",
    "for i in range(len(f)):\n",
    "    if d1 == f[i][0:10]:\n",
    "        fd1.append(f[i])\n",
    "        \n",
    "for i in range(len(f)):\n",
    "    if d2 == f[i][0:10]:\n",
    "        fd2.append(f[i])\n",
    "    \n",
    "#moving one folder to two seperate folder\n",
    "for i in range(len(fd1)):\n",
    "    shutil.move(path+'\\\\'+fd1[i],p1 )\n",
    "    \n",
    "for i in range(len(fd2)):\n",
    "    shutil.move(path+'\\\\'+fd2[i],p2 )"
   ]
  },
  {
   "cell_type": "code",
   "execution_count": 65,
   "metadata": {},
   "outputs": [],
   "source": [
    "orginal_dir=os.getcwd()"
   ]
  },
  {
   "cell_type": "code",
   "execution_count": 66,
   "metadata": {},
   "outputs": [],
   "source": [
    "os.chdir(orginal_dir+'\\\\'+d1)"
   ]
  },
  {
   "cell_type": "code",
   "execution_count": 67,
   "metadata": {},
   "outputs": [],
   "source": [
    "def get_fname():\n",
    "    f=[]\n",
    "    fdir=os.listdir()\n",
    "    for i in fdir:\n",
    "        f.append(i.split('.')[0])\n",
    "    return f"
   ]
  },
  {
   "cell_type": "code",
   "execution_count": 68,
   "metadata": {},
   "outputs": [
    {
     "data": {
      "text/plain": [
       "['Programming_Assignment1(Advanced)',\n",
       " 'Programming_Assignment2(Advanced)',\n",
       " 'Programming_Assignment3(Advanced)',\n",
       " 'Programming_Assignment4(Advanced)',\n",
       " 'Programming_Assignment5(Advanced)',\n",
       " 'Programming_Assingment1',\n",
       " 'Programming_Assingment2',\n",
       " 'Programming_Assingment3',\n",
       " 'Programming_Assingment4',\n",
       " 'Programming_Assingment5']"
      ]
     },
     "execution_count": 68,
     "metadata": {},
     "output_type": "execute_result"
    }
   ],
   "source": [
    "f=get_fname()\n",
    "f"
   ]
  },
  {
   "cell_type": "code",
   "execution_count": 69,
   "metadata": {},
   "outputs": [],
   "source": [
    "#function to read word file to list\n",
    "def gettext(filename):\n",
    "    doc = docx.Document(filename)\n",
    "    fulltext=[]\n",
    "    for para in doc.paragraphs:\n",
    "        fulltext.append(para.text)\n",
    "    return '\\n'.join(fulltext)"
   ]
  },
  {
   "cell_type": "code",
   "execution_count": 70,
   "metadata": {},
   "outputs": [
    {
     "data": {
      "text/plain": [
       "['Programming_Assignment1(Advanced)',\n",
       " '1. Write a function that takes a list of lists and returns the value of all of the symbols in it, where each symbol adds or takes something from the total score. Symbol values:\\n\\n# = 5\\nO = 3\\nX = 1\\n! = -1\\n!! = -3\\n!!! = -5\\n\\nA list of lists containing 2 #s, a O, and a !!! would equal (0 + 5 + 5 + 3 - 5) 8.\\n\\nIf the final score is negative, return 0 (e.g. 3 #s, 3 !!s, 2 !!!s and a X would be (0 + 5 + 5 + 5 - 3 - 3 - 3 - 5 - 5 + 1) -3, so return 0.\\n\\nExamples\\n\\ncheck_score([\\n  [\"#\", \"!\"],\\n  [\"!!\", \"X\"]\\n]) ➞ 2\\n\\ncheck_score([\\n  [\"!!!\", \"O\", \"!\"],\\n  [\"X\", \"#\", \"!!!\"],\\n  [\"!!\", \"X\", \"O\"]\\n]) ➞ 0\\n\\n2. Create a function that takes a variable number of arguments, each argument representing the number of items in a group, and returns the number of permutations (combinations) of items that you could get by taking one item from each group.\\n\\nExamples\\n\\ncombinations(2, 3) ➞ 6\\n\\ncombinations(3, 7, 4) ➞ 84\\n\\ncombinations(2, 3, 4, 5) ➞ 120\\n\\n\\n\\n\\n3. Create a function that takes a string as an argument and returns the Morse code equivalent.\\n\\nExamples\\n\\nencode_morse(\"EDABBIT CHALLENGE\") ➞ \". -.. .- -... -... .. -   -.-. .... .- .-.. .-.. . -. --. .\"\\n\\nencode_morse(\"HELP ME !\") ➞ \".... . .-.. .--.   -- .   -.-.--\"\\n\\nThis dictionary can be used for coding:\\n\\nchar_to_dots = {\\n  \\'A\\': \\'.-\\', \\'B\\': \\'-...\\', \\'C\\': \\'-.-.\\', \\'D\\': \\'-..\\', \\'E\\': \\'.\\', \\'F\\': \\'..-.\\',\\n  \\'G\\': \\'--.\\', \\'H\\': \\'....\\', \\'I\\': \\'..\\', \\'J\\': \\'.---\\', \\'K\\': \\'-.-\\', \\'L\\': \\'.-..\\',\\n  \\'M\\': \\'--\\', \\'N\\': \\'-.\\', \\'O\\': \\'---\\', \\'P\\': \\'.--.\\', \\'Q\\': \\'--.-\\', \\'R\\': \\'.-.\\',\\n  \\'S\\': \\'...\\', \\'T\\': \\'-\\', \\'U\\': \\'..-\\', \\'V\\': \\'...-\\', \\'W\\': \\'.--\\', \\'X\\': \\'-..-\\',\\n  \\'Y\\': \\'-.--\\', \\'Z\\': \\'--..\\', \\' \\': \\' \\', \\'0\\': \\'-----\\',\\n  \\'1\\': \\'.----\\', \\'2\\': \\'..---\\', \\'3\\': \\'...--\\', \\'4\\': \\'....-\\', \\'5\\': \\'.....\\',\\n  \\'6\\': \\'-....\\', \\'7\\': \\'--...\\', \\'8\\': \\'---..\\', \\'9\\': \\'----.\\',\\n  \\'&\\': \\'.-...\\', \"\\'\": \\'.----.\\', \\'@\\': \\'.--.-.\\', \\')\\': \\'-.--.-\\', \\'(\\': \\'-.--.\\',\\n  \\':\\': \\'---...\\', \\',\\': \\'--..--\\', \\'=\\': \\'-...-\\', \\'!\\': \\'-.-.--\\', \\'.\\': \\'.-.-.-\\',\\n  \\'-\\': \\'-....-\\', \\'+\\': \\'.-.-.\\', \\'\"\\': \\'.-..-.\\', \\'?\\': \\'..--..\\', \\'/\\': \\'-..-.\\'\\n}\\n\\n4.  Write a function that takes a number and returns True if it\\'s a prime; False otherwise. The number can be 2^64-1 (2 to the power of 63, not XOR). With the standard technique it would be O(2^64-1), which is much too large for the 10 second time limit.\\n\\nExamples\\n\\nprime(7) ➞ True\\n\\nprime(56963) ➞ True\\n\\nprime(5151512515524) ➞ False\\n\\n\\n\\n\\n\\n\\n\\n5.  Create a function that converts a word to a bitstring and then to a boolean list based on the following criteria:\\n\\n    1. Locate the position of the letter in the English alphabet (from 1 to 26).\\n    2. Odd positions will be represented as 1 and 0 otherwise.\\n    3. Convert the represented positions to boolean values, 1 for True and 0 for False.\\n    4. Store the conversions into an array.\\n\\n Examples\\n\\nto_boolean_list(\"deep\") ➞ [False, True, True, False]\\n# deep converts to 0110\\n# d is the 4th alphabet - 0\\n# e is the 5th alphabet - 1\\n# e is the 5th alphabet - 1\\n# p is the 16th alphabet - 0\\n\\nto_boolean_list(\"loves\") ➞ [False, True, False, True, True]\\n\\nto_boolean_list(\"tesh\") ➞ [False, True, True, False]\\n',\n",
       " 'Programming_Assignment2(Advanced)',\n",
       " '1. Write a function that takes a positive integer num and calculates how many dots exist in a pentagonal shape around the center dot on the Nth iteration.\\n\\nIn the image below you can see the first iteration is only a single dot. On the second, there are 6 dots. On the third, there are 16 dots, and on the fourth there are 31 dots.\\n\\n\\n\\n\\n\\n\\n\\n\\nReturn the number of dots that exist in the whole pentagon on the Nth iteration.\\n\\nExamples\\n\\npentagonal(1) ➞ 1\\n\\npentagonal(2) ➞ 6\\n\\npentagonal(3) ➞ 16\\n\\npentagonal(8) ➞ 141\\n\\n\\n\\n2.  Make a function that encrypts a given input with these steps:\\n\\nInput: \"apple\"\\n\\nStep 1: Reverse the input: \"elppa\"\\n\\nStep 2: Replace all vowels using the following chart:\\n\\na => 0\\ne => 1\\ni => 2\\no => 2\\nu => 3\\n\\n# \"1lpp0\"\\n\\nStep 3: Add \"aca\" to the end of the word: \"1lpp0aca\"\\n\\nOutput: \"1lpp0aca\"\\n\\nExamples\\n\\nencrypt(\"banana\") ➞ \"0n0n0baca\"\\n\\nencrypt(\"karaca\") ➞ \"0c0r0kaca\"\\n\\nencrypt(\"burak\") ➞ \"k0r3baca\"\\n\\nencrypt(\"alpaca\") ➞ \"0c0pl0aca\"\\n\\n3. Given the month and year as numbers, return whether that month contains a Friday 13th.(i.e You can check Python\\'s datetime module)\\n\\nExamples\\n\\nhas_friday_13(3, 2020) ➞ True\\n\\nhas_friday_13(10, 2017) ➞ True\\n\\nhas_friday_13(1, 1985) ➞ False\\n\\n\\n4. Write a regular expression that will help us count how many bad cookies are produced every day. You must use RegEx negative lookbehind.\\n\\nExample\\n\\nlst = [\"bad cookie\", \"good cookie\", \"bad cookie\", \"good cookie\", \"good cookie\"]\\npattern = \"yourregularexpressionhere\"\\n\\nlen(re.findall(pattern, \", \".join(lst))) ➞ 2\\n\\n5. Given a list of words in the singular form, return a set of those words in the plural form if they appear more than once in the list.\\n\\nExamples\\n\\npluralize([\"cow\", \"pig\", \"cow\", \"cow\"]) ➞ { \"cows\", \"pig\" }\\n\\npluralize([\"table\", \"table\", \"table\"]) ➞ { \"tables\" }\\n\\npluralize([\"chair\", \"pencil\", \"arm\"]) ➞ { \"chair\", \"pencil\", \"arm\" }\\n',\n",
       " 'Programming_Assignment3(Advanced)',\n",
       " '1. Create a function to perform basic arithmetic operations that includes addition, subtraction, multiplication and division on a string number (e.g. \"12 + 24\" or \"23 - 21\" or \"12 // 12\" or \"12 * 21\").\\n\\nHere, we have 1 followed by a space, operator followed by another space and 2. For the challenge, we are going to have only two numbers between 1 valid operator. The return value should be a number.\\n\\neval() is not allowed. In case of division, whenever the second number equals \"0\" return -1.\\n\\nFor example:\\n\\n\"15 // 0\"  ➞ -1\\n\\nExamples\\n\\narithmetic_operation(\"12 + 12\") ➞ 24 // 12 + 12 = 24\\n\\narithmetic_operation(\"12 - 12\") ➞ 24 // 12 - 12 = 0\\n\\narithmetic_operation(\"12 * 12\") ➞ 144 // 12 * 12 = 144\\n\\narithmetic_operation(\"12 // 0\") ➞ -1 // 12 / 0 = -1\\n\\n2. Write a function that takes the coordinates of three points in the form of a 2d array and returns the perimeter of the triangle. The given points are the vertices of a triangle on a two-dimensional plane.\\n\\nExamples\\n\\nperimeter( [ [15, 7], [5, 22], [11, 1] ] ) ➞ 47.08\\n\\nperimeter( [ [0, 0], [0, 1], [1, 0] ] ) ➞ 3.42\\n\\nperimeter( [ [-10, -10], [10, 10 ], [-10, 10] ] ) ➞ 68.28\\n\\n3. A city skyline can be represented as a 2-D list with 1s representing buildings. In the example below, the height of the tallest building is 4 (second-most right column).\\n\\n[[0, 0, 0, 0, 0, 0],\\n[0, 0, 0, 0, 1, 0],\\n[0, 0, 1, 0, 1, 0],\\n[0, 1, 1, 1, 1, 0],\\n[1, 1, 1, 1, 1, 1]]\\n\\nCreate a function that takes a skyline (2-D list of 0\\'s and 1\\'s) and returns the height of the tallest skyscraper.\\n\\nExamples\\n\\ntallest_skyscraper([\\n  [0, 0, 0, 0],\\n  [0, 1, 0, 0],\\n  [0, 1, 1, 0],\\n  [1, 1, 1, 1]\\n]) ➞ 3\\n\\ntallest_skyscraper([\\n  [0, 1, 0, 0],\\n  [0, 1, 0, 0],\\n  [0, 1, 1, 0],\\n  [1, 1, 1, 1]\\n]) ➞ 4\\n\\ntallest_skyscraper([\\n  [0, 0, 0, 0],\\n  [0, 0, 0, 0],\\n  [1, 1, 1, 0],\\n  [1, 1, 1, 1]\\n]) ➞ 2\\n\\n4. A financial institution provides professional services to banks and claims charges from the customers based on the number of man-days provided. Internally, it has set a scheme to motivate and reward staff to meet and exceed targeted billable utilization and revenues by paying a bonus for each day claimed from customers in excess of a threshold target.\\n\\nThis quarterly scheme is calculated with a threshold target of 32 days per quarter, and the incentive payment for each billable day in excess of such threshold target is shown as follows:\\n\\nDays\\t                             Bonus\\n0 to 32 days\\t                   Zero\\n33 to 40 days\\t         SGD$325 per billable day\\n41 to 48 days\\t         SGD$550 per billable day\\nGreater than 48 days      SGD$600 per billable day\\n\\nPlease note that incentive payment is calculated progressively. As an example, if an employee reached total billable days of 45 in a quarter, his/her incentive payment is computed as follows:\\n\\n32*0 + 8*325 + 5*550 = 5350\\n\\nWrite a function to read the billable days of an employee and return the bonus he/she has obtained in that quarter.\\n\\nExamples\\n\\nbonus(15) ➞ 0\\n\\nbonus(37) ➞ 1625\\n\\nbonus(50) ➞ 8200\\n\\n5. A number is said to be Disarium if the sum of its digits raised to their respective positions is the number itself.\\n\\nCreate a function that determines whether a number is a Disarium or not.\\n\\nExamples\\n\\nis_disarium(75) ➞ False\\n# 7^1 + 5^2 = 7 + 25 = 32\\n\\nis_disarium(135) ➞ True\\n# 1^1 + 3^2 + 5^3 = 1 + 9 + 125 = 135\\n\\nis_disarium(544) ➞ False\\n\\nis_disarium(518) ➞ True\\n\\nis_disarium(466) ➞ False\\n\\nis_disarium(8) ➞ True',\n",
       " 'Programming_Assignment4(Advanced)',\n",
       " '1. In mathematics, the Fibonacci numbers, commonly denoted Fn, form a sequence, called the Fibonacci sequence, such that each number is the sum of the two preceding ones, starting from 0 and 1:\\n\\n\\n\\n\\n\\n\\n\\n\\n\\n\\nThe beginning of the sequence is this:\\n\\n0, 1, 1, 2, 3, 5, 8, 13, 21, 34, 55, 89, 144, ...\\n\\nThe function fastFib(num) returns the fibonacci number Fn, of the given num as an argument.\\n\\nExamples\\n\\nfib_fast(5) ➞ 5\\n\\nfib_fast(10) ➞ 55\\n\\nfib_fast(20) ➞ 6765\\n\\nfib_fast(50) ➞ 12586269025\\n\\n2. Create a function that takes a strings characters as ASCII and returns each characters hexadecimal value as a string.\\n\\nExamples\\n\\nconvert_to_hex(\"hello world\") ➞ \"68 65 6c 6c 6f 20 77 6f 72 6c 64\"\\n\\nconvert_to_hex(\"Big Boi\") ➞ \"42 69 67 20 42 6f 69\"\\n\\nconvert_to_hex(\"Marty Poppinson\") ➞ \"4d 61 72 74 79 20 50 6f 70 70 69 6e 73 6f 6e\"\\n\\n\\n\\n3. Someone has attempted to censor my strings by replacing every vowel with a *, l*k* th*s. Luckily, I\\'ve been able to find the vowels that were removed.\\n\\nGiven a censored string and a string of the censored vowels, return the original uncensored string.\\n\\nExample\\n\\nuncensor(\"Wh*r* d*d my v*w*ls g*?\", \"eeioeo\") ➞ \"Where did my vowels go?\"\\n\\nuncensor(\"abcd\", \"\") ➞ \"abcd\"\\n\\nuncensor(\"*PP*RC*S*\", \"UEAE\") ➞ \"UPPERCASE\"\\n\\n4. Write a function that takes an IP address and returns the domain name using PTR DNS records.\\n\\nExample\\n\\nget_domain(\"8.8.8.8\") ➞ \"dns.google\"\\n\\nget_domain(\"8.8.4.4\") ➞ \"dns.google\"\\n\\n\\n5. Create a function that takes an integer n and returns the factorial of factorials. See below examples for a better understanding:\\n\\nExamples\\n\\nfact_of_fact(4) ➞ 288\\n# 4! * 3! * 2! * 1! = 288\\n\\nfact_of_fact(5) ➞ 34560\\n\\nfact_of_fact(6) ➞ 24883200',\n",
       " 'Programming_Assignment5(Advanced)',\n",
       " '1. Create a function that takes a number n (integer greater than zero) as an argument, and returns 2 if n is odd and 8 if n is even.\\n\\nYou can only use the following arithmetic operators: addition of numbers +, subtraction of numbers -, multiplication of number *, division of number /, and exponentiation **.\\n\\nYou are not allowed to use any other methods in this challenge (i.e. no if statements, comparison operators, etc).\\n\\nExamples\\n\\nf(1) ➞ 2\\n\\nf(2) ➞ 8\\n\\nf(3) ➞ 2\\n\\n2. Create a function that returns the majority vote in a list. A majority vote is an element that occurs > N/2 times in a list (where N is the length of the list).\\n\\nExamples\\n\\nmajority_vote([\"A\", \"A\", \"B\"]) ➞ \"A\"\\n\\nmajority_vote([\"A\", \"A\", \"A\", \"B\", \"C\", \"A\"]) ➞ \"A\"\\n\\nmajority_vote([\"A\", \"B\", \"B\", \"A\", \"C\", \"C\"]) ➞ None\\n\\n3. Create a function that takes a string txt and censors any word from a given list lst. The text removed must be replaced by the given character char.\\n\\nExamples\\n\\ncensor_string(\"Today is a Wednesday!\", [\"Today\", \"a\"], \"-\") ➞ \"----- is - Wednesday!\"\\n\\ncensor_string(\"The cow jumped over the moon.\", [\"cow\", \"over\"], \"*\"), \"The *** jumped **** the moon.\")\\n\\ncensor_string(\"Why did the chicken cross the road?\", [\"Did\", \"chicken\", \"road\"], \"*\") ➞ \"Why *** the ******* cross the ****?\"\\n\\n\\n4. In mathematics a Polydivisible Number (or magic number) is a number in a given number base with digits abcde... that has the following properties:\\n\\n-  Its first digit a is not 0.\\n- The number formed by its first two digits ab is a multiple of 2.\\n- The number formed by its first three digits abc is a multiple of 3.\\n- The number formed by its first four digits abcd is a multiple of 4.\\n\\nCreate a function which takes an integer n and returns True if the given number is a Polydivisible Number and False otherwise.\\n\\nExamples\\n\\nis_polydivisible(1232) ➞ True\\n# 1     / 1 = 1\\n# 12    / 2 = 6\\n# 123   / 3 = 41\\n# 1232  / 4 = 308\\n\\nis_polydivisible(123220 ) ➞ False\\n# 1   / 1 = 1\\n# 12   / 2 = 6\\n# 123   / 3 = 41\\n# 1232   / 4 = 308\\n# 12322   / 5 = 2464.4         # Not a Whole Number\\n# 123220   /6 = 220536.333...  # Not a Whole Number\\n\\n5. Create a function that takes a list of numbers and returns the sum of all prime numbers in the list.\\n\\nExamples\\n\\nsum_primes([1, 2, 3, 4, 5, 6, 7, 8, 9, 10]) ➞ 17\\n\\nsum_primes([2, 3, 4, 11, 20, 50, 71]) ➞ 87\\n\\nsum_primes([]) ➞ None\\n',\n",
       " 'Programming_Assingment1',\n",
       " 'Write a Python program to print \"Hello Python\"?\\nWrite a Python program to do arithmetical operations addition and division.?\\nWrite a Python program to find the area of a triangle?\\nWrite a Python program to swap two variables?\\nWrite a Python program to generate a random number?',\n",
       " 'Programming_Assingment2',\n",
       " 'Write a Python program to convert kilometers to miles?\\nWrite a Python program to convert Celsius to Fahrenheit?\\nWrite a Python program to display calendar?\\nWrite a Python program to solve quadratic equation?\\nWrite a Python program to swap two variables without temp variable?\\n',\n",
       " 'Programming_Assingment3',\n",
       " 'Write a Python Program to Check if a Number is Positive, Negative or Zero?\\nWrite a Python Program to Check if a Number is Odd or Even?\\nWrite a Python Program to Check Leap Year?\\nWrite a Python Program to Check Prime Number?\\nWrite a Python Program to Print all Prime Numbers in an Interval of 1-10000?',\n",
       " 'Programming_Assingment4',\n",
       " 'Write a Python Program to Find the Factorial of a Number?\\nWrite a Python Program to Display the multiplication Table?\\nWrite a Python Program to Print the Fibonacci sequence?\\nWrite a Python Program to Check Armstrong Number?\\nWrite a Python Program to Find Armstrong Number in an Interval?\\nWrite a Python Program to Find the Sum of Natural Numbers?',\n",
       " 'Programming_Assingment5',\n",
       " 'Write a Python Program to Find LCM?\\nWrite a Python Program to Find HCF?\\nWrite a Python Program to Convert Decimal to Binary, Octal and Hexadecimal?\\nWrite a Python Program To Find ASCII value of a character?\\nWrite a Python Program to Make a Simple Calculator with 4 basic mathematical operations?']"
      ]
     },
     "execution_count": 70,
     "metadata": {},
     "output_type": "execute_result"
    }
   ],
   "source": [
    "#read programming file into list\n",
    "all_text=[]\n",
    "for i in range(len(fd1)):\n",
    "    all_text.append(f[i])\n",
    "    all_text.append(gettext(fd1[i]))\n",
    "all_text"
   ]
  },
  {
   "cell_type": "code",
   "execution_count": 71,
   "metadata": {},
   "outputs": [],
   "source": [
    "#change to dir\n",
    "os.chdir(orginal_dir)"
   ]
  },
  {
   "cell_type": "code",
   "execution_count": 72,
   "metadata": {},
   "outputs": [],
   "source": [
    "os.chdir(orginal_dir+'\\\\'+d2)"
   ]
  },
  {
   "cell_type": "code",
   "execution_count": 73,
   "metadata": {},
   "outputs": [
    {
     "data": {
      "text/plain": [
       "['Assignment_1(Advanced)',\n",
       " 'Assignment_1',\n",
       " 'Assignment_2(Advanced)',\n",
       " 'Assignment_2',\n",
       " 'Assignment_3(Advanced)',\n",
       " 'Assignment_3',\n",
       " 'Assignment_4(Advanced)',\n",
       " 'Assignment_4',\n",
       " 'Assignment_5(Advanced)',\n",
       " 'Assignment_5']"
      ]
     },
     "execution_count": 73,
     "metadata": {},
     "output_type": "execute_result"
    }
   ],
   "source": [
    "f=get_fname()\n",
    "f"
   ]
  },
  {
   "cell_type": "code",
   "execution_count": 74,
   "metadata": {},
   "outputs": [
    {
     "data": {
      "text/plain": [
       "['Programming_Assignment1(Advanced)',\n",
       " '1. Write a function that takes a list of lists and returns the value of all of the symbols in it, where each symbol adds or takes something from the total score. Symbol values:\\n\\n# = 5\\nO = 3\\nX = 1\\n! = -1\\n!! = -3\\n!!! = -5\\n\\nA list of lists containing 2 #s, a O, and a !!! would equal (0 + 5 + 5 + 3 - 5) 8.\\n\\nIf the final score is negative, return 0 (e.g. 3 #s, 3 !!s, 2 !!!s and a X would be (0 + 5 + 5 + 5 - 3 - 3 - 3 - 5 - 5 + 1) -3, so return 0.\\n\\nExamples\\n\\ncheck_score([\\n  [\"#\", \"!\"],\\n  [\"!!\", \"X\"]\\n]) ➞ 2\\n\\ncheck_score([\\n  [\"!!!\", \"O\", \"!\"],\\n  [\"X\", \"#\", \"!!!\"],\\n  [\"!!\", \"X\", \"O\"]\\n]) ➞ 0\\n\\n2. Create a function that takes a variable number of arguments, each argument representing the number of items in a group, and returns the number of permutations (combinations) of items that you could get by taking one item from each group.\\n\\nExamples\\n\\ncombinations(2, 3) ➞ 6\\n\\ncombinations(3, 7, 4) ➞ 84\\n\\ncombinations(2, 3, 4, 5) ➞ 120\\n\\n\\n\\n\\n3. Create a function that takes a string as an argument and returns the Morse code equivalent.\\n\\nExamples\\n\\nencode_morse(\"EDABBIT CHALLENGE\") ➞ \". -.. .- -... -... .. -   -.-. .... .- .-.. .-.. . -. --. .\"\\n\\nencode_morse(\"HELP ME !\") ➞ \".... . .-.. .--.   -- .   -.-.--\"\\n\\nThis dictionary can be used for coding:\\n\\nchar_to_dots = {\\n  \\'A\\': \\'.-\\', \\'B\\': \\'-...\\', \\'C\\': \\'-.-.\\', \\'D\\': \\'-..\\', \\'E\\': \\'.\\', \\'F\\': \\'..-.\\',\\n  \\'G\\': \\'--.\\', \\'H\\': \\'....\\', \\'I\\': \\'..\\', \\'J\\': \\'.---\\', \\'K\\': \\'-.-\\', \\'L\\': \\'.-..\\',\\n  \\'M\\': \\'--\\', \\'N\\': \\'-.\\', \\'O\\': \\'---\\', \\'P\\': \\'.--.\\', \\'Q\\': \\'--.-\\', \\'R\\': \\'.-.\\',\\n  \\'S\\': \\'...\\', \\'T\\': \\'-\\', \\'U\\': \\'..-\\', \\'V\\': \\'...-\\', \\'W\\': \\'.--\\', \\'X\\': \\'-..-\\',\\n  \\'Y\\': \\'-.--\\', \\'Z\\': \\'--..\\', \\' \\': \\' \\', \\'0\\': \\'-----\\',\\n  \\'1\\': \\'.----\\', \\'2\\': \\'..---\\', \\'3\\': \\'...--\\', \\'4\\': \\'....-\\', \\'5\\': \\'.....\\',\\n  \\'6\\': \\'-....\\', \\'7\\': \\'--...\\', \\'8\\': \\'---..\\', \\'9\\': \\'----.\\',\\n  \\'&\\': \\'.-...\\', \"\\'\": \\'.----.\\', \\'@\\': \\'.--.-.\\', \\')\\': \\'-.--.-\\', \\'(\\': \\'-.--.\\',\\n  \\':\\': \\'---...\\', \\',\\': \\'--..--\\', \\'=\\': \\'-...-\\', \\'!\\': \\'-.-.--\\', \\'.\\': \\'.-.-.-\\',\\n  \\'-\\': \\'-....-\\', \\'+\\': \\'.-.-.\\', \\'\"\\': \\'.-..-.\\', \\'?\\': \\'..--..\\', \\'/\\': \\'-..-.\\'\\n}\\n\\n4.  Write a function that takes a number and returns True if it\\'s a prime; False otherwise. The number can be 2^64-1 (2 to the power of 63, not XOR). With the standard technique it would be O(2^64-1), which is much too large for the 10 second time limit.\\n\\nExamples\\n\\nprime(7) ➞ True\\n\\nprime(56963) ➞ True\\n\\nprime(5151512515524) ➞ False\\n\\n\\n\\n\\n\\n\\n\\n5.  Create a function that converts a word to a bitstring and then to a boolean list based on the following criteria:\\n\\n    1. Locate the position of the letter in the English alphabet (from 1 to 26).\\n    2. Odd positions will be represented as 1 and 0 otherwise.\\n    3. Convert the represented positions to boolean values, 1 for True and 0 for False.\\n    4. Store the conversions into an array.\\n\\n Examples\\n\\nto_boolean_list(\"deep\") ➞ [False, True, True, False]\\n# deep converts to 0110\\n# d is the 4th alphabet - 0\\n# e is the 5th alphabet - 1\\n# e is the 5th alphabet - 1\\n# p is the 16th alphabet - 0\\n\\nto_boolean_list(\"loves\") ➞ [False, True, False, True, True]\\n\\nto_boolean_list(\"tesh\") ➞ [False, True, True, False]\\n',\n",
       " 'Programming_Assignment2(Advanced)',\n",
       " '1. Write a function that takes a positive integer num and calculates how many dots exist in a pentagonal shape around the center dot on the Nth iteration.\\n\\nIn the image below you can see the first iteration is only a single dot. On the second, there are 6 dots. On the third, there are 16 dots, and on the fourth there are 31 dots.\\n\\n\\n\\n\\n\\n\\n\\n\\nReturn the number of dots that exist in the whole pentagon on the Nth iteration.\\n\\nExamples\\n\\npentagonal(1) ➞ 1\\n\\npentagonal(2) ➞ 6\\n\\npentagonal(3) ➞ 16\\n\\npentagonal(8) ➞ 141\\n\\n\\n\\n2.  Make a function that encrypts a given input with these steps:\\n\\nInput: \"apple\"\\n\\nStep 1: Reverse the input: \"elppa\"\\n\\nStep 2: Replace all vowels using the following chart:\\n\\na => 0\\ne => 1\\ni => 2\\no => 2\\nu => 3\\n\\n# \"1lpp0\"\\n\\nStep 3: Add \"aca\" to the end of the word: \"1lpp0aca\"\\n\\nOutput: \"1lpp0aca\"\\n\\nExamples\\n\\nencrypt(\"banana\") ➞ \"0n0n0baca\"\\n\\nencrypt(\"karaca\") ➞ \"0c0r0kaca\"\\n\\nencrypt(\"burak\") ➞ \"k0r3baca\"\\n\\nencrypt(\"alpaca\") ➞ \"0c0pl0aca\"\\n\\n3. Given the month and year as numbers, return whether that month contains a Friday 13th.(i.e You can check Python\\'s datetime module)\\n\\nExamples\\n\\nhas_friday_13(3, 2020) ➞ True\\n\\nhas_friday_13(10, 2017) ➞ True\\n\\nhas_friday_13(1, 1985) ➞ False\\n\\n\\n4. Write a regular expression that will help us count how many bad cookies are produced every day. You must use RegEx negative lookbehind.\\n\\nExample\\n\\nlst = [\"bad cookie\", \"good cookie\", \"bad cookie\", \"good cookie\", \"good cookie\"]\\npattern = \"yourregularexpressionhere\"\\n\\nlen(re.findall(pattern, \", \".join(lst))) ➞ 2\\n\\n5. Given a list of words in the singular form, return a set of those words in the plural form if they appear more than once in the list.\\n\\nExamples\\n\\npluralize([\"cow\", \"pig\", \"cow\", \"cow\"]) ➞ { \"cows\", \"pig\" }\\n\\npluralize([\"table\", \"table\", \"table\"]) ➞ { \"tables\" }\\n\\npluralize([\"chair\", \"pencil\", \"arm\"]) ➞ { \"chair\", \"pencil\", \"arm\" }\\n',\n",
       " 'Programming_Assignment3(Advanced)',\n",
       " '1. Create a function to perform basic arithmetic operations that includes addition, subtraction, multiplication and division on a string number (e.g. \"12 + 24\" or \"23 - 21\" or \"12 // 12\" or \"12 * 21\").\\n\\nHere, we have 1 followed by a space, operator followed by another space and 2. For the challenge, we are going to have only two numbers between 1 valid operator. The return value should be a number.\\n\\neval() is not allowed. In case of division, whenever the second number equals \"0\" return -1.\\n\\nFor example:\\n\\n\"15 // 0\"  ➞ -1\\n\\nExamples\\n\\narithmetic_operation(\"12 + 12\") ➞ 24 // 12 + 12 = 24\\n\\narithmetic_operation(\"12 - 12\") ➞ 24 // 12 - 12 = 0\\n\\narithmetic_operation(\"12 * 12\") ➞ 144 // 12 * 12 = 144\\n\\narithmetic_operation(\"12 // 0\") ➞ -1 // 12 / 0 = -1\\n\\n2. Write a function that takes the coordinates of three points in the form of a 2d array and returns the perimeter of the triangle. The given points are the vertices of a triangle on a two-dimensional plane.\\n\\nExamples\\n\\nperimeter( [ [15, 7], [5, 22], [11, 1] ] ) ➞ 47.08\\n\\nperimeter( [ [0, 0], [0, 1], [1, 0] ] ) ➞ 3.42\\n\\nperimeter( [ [-10, -10], [10, 10 ], [-10, 10] ] ) ➞ 68.28\\n\\n3. A city skyline can be represented as a 2-D list with 1s representing buildings. In the example below, the height of the tallest building is 4 (second-most right column).\\n\\n[[0, 0, 0, 0, 0, 0],\\n[0, 0, 0, 0, 1, 0],\\n[0, 0, 1, 0, 1, 0],\\n[0, 1, 1, 1, 1, 0],\\n[1, 1, 1, 1, 1, 1]]\\n\\nCreate a function that takes a skyline (2-D list of 0\\'s and 1\\'s) and returns the height of the tallest skyscraper.\\n\\nExamples\\n\\ntallest_skyscraper([\\n  [0, 0, 0, 0],\\n  [0, 1, 0, 0],\\n  [0, 1, 1, 0],\\n  [1, 1, 1, 1]\\n]) ➞ 3\\n\\ntallest_skyscraper([\\n  [0, 1, 0, 0],\\n  [0, 1, 0, 0],\\n  [0, 1, 1, 0],\\n  [1, 1, 1, 1]\\n]) ➞ 4\\n\\ntallest_skyscraper([\\n  [0, 0, 0, 0],\\n  [0, 0, 0, 0],\\n  [1, 1, 1, 0],\\n  [1, 1, 1, 1]\\n]) ➞ 2\\n\\n4. A financial institution provides professional services to banks and claims charges from the customers based on the number of man-days provided. Internally, it has set a scheme to motivate and reward staff to meet and exceed targeted billable utilization and revenues by paying a bonus for each day claimed from customers in excess of a threshold target.\\n\\nThis quarterly scheme is calculated with a threshold target of 32 days per quarter, and the incentive payment for each billable day in excess of such threshold target is shown as follows:\\n\\nDays\\t                             Bonus\\n0 to 32 days\\t                   Zero\\n33 to 40 days\\t         SGD$325 per billable day\\n41 to 48 days\\t         SGD$550 per billable day\\nGreater than 48 days      SGD$600 per billable day\\n\\nPlease note that incentive payment is calculated progressively. As an example, if an employee reached total billable days of 45 in a quarter, his/her incentive payment is computed as follows:\\n\\n32*0 + 8*325 + 5*550 = 5350\\n\\nWrite a function to read the billable days of an employee and return the bonus he/she has obtained in that quarter.\\n\\nExamples\\n\\nbonus(15) ➞ 0\\n\\nbonus(37) ➞ 1625\\n\\nbonus(50) ➞ 8200\\n\\n5. A number is said to be Disarium if the sum of its digits raised to their respective positions is the number itself.\\n\\nCreate a function that determines whether a number is a Disarium or not.\\n\\nExamples\\n\\nis_disarium(75) ➞ False\\n# 7^1 + 5^2 = 7 + 25 = 32\\n\\nis_disarium(135) ➞ True\\n# 1^1 + 3^2 + 5^3 = 1 + 9 + 125 = 135\\n\\nis_disarium(544) ➞ False\\n\\nis_disarium(518) ➞ True\\n\\nis_disarium(466) ➞ False\\n\\nis_disarium(8) ➞ True',\n",
       " 'Programming_Assignment4(Advanced)',\n",
       " '1. In mathematics, the Fibonacci numbers, commonly denoted Fn, form a sequence, called the Fibonacci sequence, such that each number is the sum of the two preceding ones, starting from 0 and 1:\\n\\n\\n\\n\\n\\n\\n\\n\\n\\n\\nThe beginning of the sequence is this:\\n\\n0, 1, 1, 2, 3, 5, 8, 13, 21, 34, 55, 89, 144, ...\\n\\nThe function fastFib(num) returns the fibonacci number Fn, of the given num as an argument.\\n\\nExamples\\n\\nfib_fast(5) ➞ 5\\n\\nfib_fast(10) ➞ 55\\n\\nfib_fast(20) ➞ 6765\\n\\nfib_fast(50) ➞ 12586269025\\n\\n2. Create a function that takes a strings characters as ASCII and returns each characters hexadecimal value as a string.\\n\\nExamples\\n\\nconvert_to_hex(\"hello world\") ➞ \"68 65 6c 6c 6f 20 77 6f 72 6c 64\"\\n\\nconvert_to_hex(\"Big Boi\") ➞ \"42 69 67 20 42 6f 69\"\\n\\nconvert_to_hex(\"Marty Poppinson\") ➞ \"4d 61 72 74 79 20 50 6f 70 70 69 6e 73 6f 6e\"\\n\\n\\n\\n3. Someone has attempted to censor my strings by replacing every vowel with a *, l*k* th*s. Luckily, I\\'ve been able to find the vowels that were removed.\\n\\nGiven a censored string and a string of the censored vowels, return the original uncensored string.\\n\\nExample\\n\\nuncensor(\"Wh*r* d*d my v*w*ls g*?\", \"eeioeo\") ➞ \"Where did my vowels go?\"\\n\\nuncensor(\"abcd\", \"\") ➞ \"abcd\"\\n\\nuncensor(\"*PP*RC*S*\", \"UEAE\") ➞ \"UPPERCASE\"\\n\\n4. Write a function that takes an IP address and returns the domain name using PTR DNS records.\\n\\nExample\\n\\nget_domain(\"8.8.8.8\") ➞ \"dns.google\"\\n\\nget_domain(\"8.8.4.4\") ➞ \"dns.google\"\\n\\n\\n5. Create a function that takes an integer n and returns the factorial of factorials. See below examples for a better understanding:\\n\\nExamples\\n\\nfact_of_fact(4) ➞ 288\\n# 4! * 3! * 2! * 1! = 288\\n\\nfact_of_fact(5) ➞ 34560\\n\\nfact_of_fact(6) ➞ 24883200',\n",
       " 'Programming_Assignment5(Advanced)',\n",
       " '1. Create a function that takes a number n (integer greater than zero) as an argument, and returns 2 if n is odd and 8 if n is even.\\n\\nYou can only use the following arithmetic operators: addition of numbers +, subtraction of numbers -, multiplication of number *, division of number /, and exponentiation **.\\n\\nYou are not allowed to use any other methods in this challenge (i.e. no if statements, comparison operators, etc).\\n\\nExamples\\n\\nf(1) ➞ 2\\n\\nf(2) ➞ 8\\n\\nf(3) ➞ 2\\n\\n2. Create a function that returns the majority vote in a list. A majority vote is an element that occurs > N/2 times in a list (where N is the length of the list).\\n\\nExamples\\n\\nmajority_vote([\"A\", \"A\", \"B\"]) ➞ \"A\"\\n\\nmajority_vote([\"A\", \"A\", \"A\", \"B\", \"C\", \"A\"]) ➞ \"A\"\\n\\nmajority_vote([\"A\", \"B\", \"B\", \"A\", \"C\", \"C\"]) ➞ None\\n\\n3. Create a function that takes a string txt and censors any word from a given list lst. The text removed must be replaced by the given character char.\\n\\nExamples\\n\\ncensor_string(\"Today is a Wednesday!\", [\"Today\", \"a\"], \"-\") ➞ \"----- is - Wednesday!\"\\n\\ncensor_string(\"The cow jumped over the moon.\", [\"cow\", \"over\"], \"*\"), \"The *** jumped **** the moon.\")\\n\\ncensor_string(\"Why did the chicken cross the road?\", [\"Did\", \"chicken\", \"road\"], \"*\") ➞ \"Why *** the ******* cross the ****?\"\\n\\n\\n4. In mathematics a Polydivisible Number (or magic number) is a number in a given number base with digits abcde... that has the following properties:\\n\\n-  Its first digit a is not 0.\\n- The number formed by its first two digits ab is a multiple of 2.\\n- The number formed by its first three digits abc is a multiple of 3.\\n- The number formed by its first four digits abcd is a multiple of 4.\\n\\nCreate a function which takes an integer n and returns True if the given number is a Polydivisible Number and False otherwise.\\n\\nExamples\\n\\nis_polydivisible(1232) ➞ True\\n# 1     / 1 = 1\\n# 12    / 2 = 6\\n# 123   / 3 = 41\\n# 1232  / 4 = 308\\n\\nis_polydivisible(123220 ) ➞ False\\n# 1   / 1 = 1\\n# 12   / 2 = 6\\n# 123   / 3 = 41\\n# 1232   / 4 = 308\\n# 12322   / 5 = 2464.4         # Not a Whole Number\\n# 123220   /6 = 220536.333...  # Not a Whole Number\\n\\n5. Create a function that takes a list of numbers and returns the sum of all prime numbers in the list.\\n\\nExamples\\n\\nsum_primes([1, 2, 3, 4, 5, 6, 7, 8, 9, 10]) ➞ 17\\n\\nsum_primes([2, 3, 4, 11, 20, 50, 71]) ➞ 87\\n\\nsum_primes([]) ➞ None\\n',\n",
       " 'Programming_Assingment1',\n",
       " 'Write a Python program to print \"Hello Python\"?\\nWrite a Python program to do arithmetical operations addition and division.?\\nWrite a Python program to find the area of a triangle?\\nWrite a Python program to swap two variables?\\nWrite a Python program to generate a random number?',\n",
       " 'Programming_Assingment2',\n",
       " 'Write a Python program to convert kilometers to miles?\\nWrite a Python program to convert Celsius to Fahrenheit?\\nWrite a Python program to display calendar?\\nWrite a Python program to solve quadratic equation?\\nWrite a Python program to swap two variables without temp variable?\\n',\n",
       " 'Programming_Assingment3',\n",
       " 'Write a Python Program to Check if a Number is Positive, Negative or Zero?\\nWrite a Python Program to Check if a Number is Odd or Even?\\nWrite a Python Program to Check Leap Year?\\nWrite a Python Program to Check Prime Number?\\nWrite a Python Program to Print all Prime Numbers in an Interval of 1-10000?',\n",
       " 'Programming_Assingment4',\n",
       " 'Write a Python Program to Find the Factorial of a Number?\\nWrite a Python Program to Display the multiplication Table?\\nWrite a Python Program to Print the Fibonacci sequence?\\nWrite a Python Program to Check Armstrong Number?\\nWrite a Python Program to Find Armstrong Number in an Interval?\\nWrite a Python Program to Find the Sum of Natural Numbers?',\n",
       " 'Programming_Assingment5',\n",
       " 'Write a Python Program to Find LCM?\\nWrite a Python Program to Find HCF?\\nWrite a Python Program to Convert Decimal to Binary, Octal and Hexadecimal?\\nWrite a Python Program To Find ASCII value of a character?\\nWrite a Python Program to Make a Simple Calculator with 4 basic mathematical operations?',\n",
       " 'Assignment_1(Advanced)',\n",
       " \"Q1. What is the purpose of Python's OOP?\\n\\n\\n\\nQ2. Where does an inheritance search look for an attribute?\\n\\n\\n\\nQ3. How do you distinguish between a class object and an instance object?\\n\\n\\n\\nQ4. What makes\\xa0the first argument in a class’s method function special?\\n\\n\\n\\nQ5. What is the purpose of the __init__ method?\\n\\n\\n\\nQ6. What is the process for creating a class instance?\\n\\n\\n\\nQ7. What is the process for creating a class?\\n\\n\\n\\nQ8. How would you define the superclasses of a class?\",\n",
       " 'Assignment_1',\n",
       " \"1. In the below elements which of them are values or an expression? eg:- values can be integer or string and expressions will be mathematical operators.\\n* \\n'hello'\\n-87.8\\n- \\n/ \\n\\n6 \\n\\n2. What is the difference between string and variable?\\n\\n3. Describe three different data types.\\n\\n4. What is an expression made up of? What do all expressions do?\\n5. This assignment statements, like spam = 10. What is the difference between an expression and a statement?\\n6. After running the following code, what does the variable bacon contain?\\nbacon = 22\\nbacon + 1\\n\\n7. What should the values of the following two terms be?\\n'spam' + 'spamspam'\\n'spam' * 3\\n\\n8. Why is eggs a valid variable name while 100 is invalid?\\n9. What three functions can be used to get the integer, floating-point number, or string version of a value?\\n10. Why does this expression cause an error? How can you fix it?\\n'I have eaten ' + 99 + ' burritos.'\\n\\n\",\n",
       " 'Assignment_2(Advanced)',\n",
       " 'Q1. What is the relationship between classes and modules?\\n\\n\\n\\nQ2. How do you make instances and classes?\\n\\n\\n\\nQ3. Where and how should be class attributes created?\\n\\n\\n\\nQ4. Where and how are instance attributes created?\\n\\n\\n\\nQ5. What does the term \"self\" in a Python class mean?\\n\\n\\n\\nQ6. How does a Python class handle operator overloading?\\n\\n\\n\\nQ7. When do you consider allowing operator overloading of your classes?\\n\\n\\n\\nQ8. What is the most popular form of operator overloading?\\n\\n\\n\\nQ9. What are the two most important concepts to grasp in order to comprehend Python OOP code?',\n",
       " 'Assignment_2',\n",
       " \"1.What are the two values of the Boolean data type? How do you write them?\\n2. What are the three different types of Boolean operators?\\n3. Make a list of each Boolean operator's truth tables (i.e. every possible combination of Boolean values for the operator and what it evaluate ).\\n4. What are the values of the following expressions?\\n(5 > 4) and (3 == 5)\\nnot (5 > 4)\\n(5 > 4) or (3 == 5)\\nnot ((5 > 4) or (3 == 5))\\n(True and True) and (True == False)\\n(not False) or (not True)\\n5. What are the six comparison operators?\\n6. How do you tell the difference between the equal to and assignment operators?Describe a condition and when you would use one.\\n7. Identify the three blocks in this code:\\nspam = 0\\nif spam == 10:\\nprint('eggs')\\nif spam > 5:\\nprint('bacon')\\nelse:\\nprint('ham')\\nprint('spam')\\nprint('spam')\\n8. Write code that prints Hello if 1 is stored in spam, prints Howdy if 2 is stored in spam, and prints Greetings! if anything else is stored in spam.\\n\\n\\n9.If your programme is stuck in an endless loop, what keys you’ll press?\\n10. How can you tell the difference between break and continue?\\n11. In a for loop, what is the difference between range(10), range(0, 10), and range(0, 10, 1)?\\n12. Write a short program that prints the numbers 1 to 10 using a for loop. Then write an equivalent program that prints the numbers 1 to 10 using a while loop.\\n13. If you had a function named bacon() inside a module named spam, how would you call it after importing spam?\\n\",\n",
       " 'Assignment_3(Advanced)',\n",
       " \"1. What is the concept of an abstract superclass?\\n\\n\\n\\n2. What happens when a class statement's top level contains a basic assignment statement?\\n\\n\\n\\n3. Why does a class need to manually call a superclass's __init__ method?\\n\\n\\n\\n4. How can you augment, instead of completely replacing, an inherited method?\\n\\n\\n\\n5. How is the local scope of a class different from that of a function?\",\n",
       " 'Assignment_3',\n",
       " \"1. Why are functions advantageous to have in your programs?\\n2. When does the code in a function run: when it's specified or when it's called?\\n3. What statement creates a function?\\n4. What is the difference between a function and a function call?\\n5. How many global scopes are there in a Python program? How many local scopes?\\n6. What happens to variables in a local scope when the function call returns?\\n7. What is the concept of a return value? Is it possible to have a return value in an expression?\\n8. If a function does not have a return statement, what is the return value of a call to that function?\\n9. How do you make a function variable refer to the global variable?\\n10. What is the data type of None?\\n11. What does the sentence import areallyourpetsnamederic do?\\n12. If you had a bacon() feature in a spam module, what would you call it after importing spam?\\n13. What can you do to save a programme from crashing if it encounters an error?\\n14. What is the purpose of the try clause? What is the purpose of the except clause?\\n\",\n",
       " 'Assignment_4(Advanced)',\n",
       " 'Q1. Which two operator overloading methods can you use in your classes to support iteration?\\n\\n\\n\\nQ2. In what contexts do the two operator overloading methods manage printing?\\n\\n\\n\\nQ3. In a class, how do you intercept slice operations?\\n\\n\\n\\nQ4. In a class, how do you capture in-place addition?\\n\\n\\n\\nQ5. When is it appropriate to use operator overloading?',\n",
       " 'Assignment_4',\n",
       " '1. What exactly is []?\\n2. In a list of values stored in a variable called spam, how would you assign the value \\'hello\\' as the third value? (Assume [2, 4, 6, 8, 10] are in spam.)\\nLet\\'s pretend the spam includes the list [\\'a\\', \\'b\\', \\'c\\', \\'d\\'] for the next three queries.\\n3. What is the value of spam[int(int(\\'3\\' * 2) / 11)]?\\n4. What is the value of spam[-1]?\\n5. What is the value of spam[:2]?\\nLet\\'s pretend bacon has the list [3.14, \\'cat,\\' 11, \\'cat,\\' True] for the next three questions.\\n6. What is the value of bacon.index(\\'cat\\')?\\n7. How does bacon.append(99) change the look of the list value in bacon?\\n8. How does bacon.remove(\\'cat\\') change the look of the list in bacon?\\n9. What are the list concatenation and list replication operators?\\n10. What is difference between the list methods append() and insert()?\\n11. What are the two methods for removing items from a list?\\n12. Describe how list values and string values are identical.\\n13. What\\'s the difference between tuples and lists?\\n14. How do you type a tuple value that only contains the integer 42?\\n15. How do you get a list value\\'s tuple form? How do you get a tuple value\\'s list form?\\n16. Variables that \"contain\" list values are not necessarily lists themselves. Instead, what do they contain?\\n17. How do you distinguish between copy.copy() and copy.deepcopy()?\\n',\n",
       " 'Assignment_5(Advanced)',\n",
       " 'Q1. What is the meaning of multiple inheritance?\\n\\n\\n\\nQ2. What is the concept of delegation?\\n\\n\\n\\nQ3. What is the concept of composition?\\n\\n\\n\\nQ4. What are bound methods\\xa0and how do we use them?\\n\\n\\n\\nQ5. What is the purpose of pseudoprivate attributes?',\n",
       " 'Assignment_5',\n",
       " '1. What does an empty dictionary\\'s code look like?\\n2. What is the value of a dictionary value with the key \\'foo\\' and the value 42?\\n3. What is the most significant distinction between a dictionary and a list?\\n4. What happens if you try to access spam[\\'foo\\'] if spam is {\\'bar\\': 100}?\\n5. If a dictionary is stored in spam, what is the difference between the expressions \\'cat\\' in spam and \\'cat\\' in spam.keys()?\\n6. If a dictionary is stored in spam, what is the difference between the expressions \\'cat\\' in spam and \\'cat\\' in spam.values()?\\n7. What is a shortcut for the following code?\\nif \\'color\\' not in spam:\\nspam[\\'color\\'] = \\'black\\'\\n\\n8. How do you \"pretty print\" dictionary values using which module and function?\\n']"
      ]
     },
     "execution_count": 74,
     "metadata": {},
     "output_type": "execute_result"
    }
   ],
   "source": [
    "#read assignment file into list\n",
    "for i in range(len(fd2)):\n",
    "    all_text.append(f[i])\n",
    "    all_text.append(gettext(fd2[i]))\n",
    "all_text"
   ]
  },
  {
   "cell_type": "code",
   "execution_count": 75,
   "metadata": {},
   "outputs": [],
   "source": [
    "os.chdir(orginal_dir)"
   ]
  },
  {
   "cell_type": "code",
   "execution_count": 76,
   "metadata": {},
   "outputs": [],
   "source": [
    "with open('listfile.txt', 'w', encoding=\"utf-8\") as filehandle:\n",
    "    for listitem in all_text:\n",
    "        filehandle.write('%s\\n' % listitem)"
   ]
  },
  {
   "cell_type": "code",
   "execution_count": 77,
   "metadata": {},
   "outputs": [],
   "source": [
    "path='C:\\\\FileAutomation'\n",
    "os.chdir(path)"
   ]
  }
 ],
 "metadata": {
  "kernelspec": {
   "display_name": "Python 3",
   "language": "python",
   "name": "python3"
  },
  "language_info": {
   "codemirror_mode": {
    "name": "ipython",
    "version": 3
   },
   "file_extension": ".py",
   "mimetype": "text/x-python",
   "name": "python",
   "nbconvert_exporter": "python",
   "pygments_lexer": "ipython3",
   "version": "3.8.3"
  }
 },
 "nbformat": 4,
 "nbformat_minor": 4
}
